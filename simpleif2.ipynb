{
 "cells": [
  {
   "cell_type": "code",
   "execution_count": null,
   "id": "d18c78eb-c4db-4f95-bcc5-69be61b739ed",
   "metadata": {},
   "outputs": [],
   "source": [
    "'''write a program to chech whether the person is eligible to vote by using if condition.\n",
    "testcase:\n",
    "input:23\n",
    "output:Eligible'''\n",
    "person=int(input(\"enter the age:\"))\n",
    "limit=18\n",
    "if person>=limit:\n",
    "    print(\"Eligible\")"
   ]
  }
 ],
 "metadata": {
  "kernelspec": {
   "display_name": "Python 3 (ipykernel)",
   "language": "python",
   "name": "python3"
  },
  "language_info": {
   "codemirror_mode": {
    "name": "ipython",
    "version": 3
   },
   "file_extension": ".py",
   "mimetype": "text/x-python",
   "name": "python",
   "nbconvert_exporter": "python",
   "pygments_lexer": "ipython3",
   "version": "3.12.7"
  }
 },
 "nbformat": 4,
 "nbformat_minor": 5
}
