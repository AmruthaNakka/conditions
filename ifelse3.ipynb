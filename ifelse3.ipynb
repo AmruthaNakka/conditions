{
 "cells": [
  {
   "cell_type": "code",
   "execution_count": null,
   "id": "c1de7bab-9b1b-43e0-ad31-2f3cd956bc19",
   "metadata": {},
   "outputs": [],
   "source": [
    "'''write a program to enter a character (a to z),if the entered character is in lower convert into upper and viceversa.\n",
    "input:a\n",
    "output:A\n",
    "input:y\n",
    "output:Y'''\n",
    "ch=input(\"enter any character from a-z\")\n",
    "if ch>='A' and ch<='Z':\n",
    "    ch=ch.lower()\n",
    "    print(\"coverted case of input char:\",ch)\n",
    "else:\n",
    "    ch=ch.upper()\n",
    "    print(\"coverted case of input char:\",ch)\n",
    "\n",
    "\n"
   ]
  }
 ],
 "metadata": {
  "kernelspec": {
   "display_name": "Python 3 (ipykernel)",
   "language": "python",
   "name": "python3"
  },
  "language_info": {
   "codemirror_mode": {
    "name": "ipython",
    "version": 3
   },
   "file_extension": ".py",
   "mimetype": "text/x-python",
   "name": "python",
   "nbconvert_exporter": "python",
   "pygments_lexer": "ipython3",
   "version": "3.12.7"
  }
 },
 "nbformat": 4,
 "nbformat_minor": 5
}
