{
 "cells": [
  {
   "cell_type": "code",
   "execution_count": null,
   "id": "7bf2cd75-0460-4ffa-bcb7-ff847a46c3f9",
   "metadata": {},
   "outputs": [],
   "source": [
    "'''print whether the number is even and skip the condition if not'''\n",
    "num= int(input(\"enter the number\"))\n",
    "if num %2==0:\n",
    "    print(num,\"is a even number\")\n",
    "print(\"after condition EXIT!!!\")"
   ]
  }
 ],
 "metadata": {
  "kernelspec": {
   "display_name": "Python 3 (ipykernel)",
   "language": "python",
   "name": "python3"
  },
  "language_info": {
   "codemirror_mode": {
    "name": "ipython",
    "version": 3
   },
   "file_extension": ".py",
   "mimetype": "text/x-python",
   "name": "python",
   "nbconvert_exporter": "python",
   "pygments_lexer": "ipython3",
   "version": "3.12.7"
  }
 },
 "nbformat": 4,
 "nbformat_minor": 5
}
