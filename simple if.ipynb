{
 "cells": [
  {
   "cell_type": "code",
   "execution_count": null,
   "id": "abc3832c-5432-460b-bde2-8dc235fa30e6",
   "metadata": {},
   "outputs": [],
   "source": [
    "# if condition\n",
    "num=99\n",
    "if(num>0):\n",
    "    print(\"Hi students\")\n",
    "print(\"India\")"
   ]
  }
 ],
 "metadata": {
  "kernelspec": {
   "display_name": "Python 3 (ipykernel)",
   "language": "python",
   "name": "python3"
  },
  "language_info": {
   "codemirror_mode": {
    "name": "ipython",
    "version": 3
   },
   "file_extension": ".py",
   "mimetype": "text/x-python",
   "name": "python",
   "nbconvert_exporter": "python",
   "pygments_lexer": "ipython3",
   "version": "3.12.7"
  }
 },
 "nbformat": 4,
 "nbformat_minor": 5
}
