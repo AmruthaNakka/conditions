{
 "cells": [
  {
   "cell_type": "code",
   "execution_count": null,
   "id": "de7dbe64-b3e5-4564-938e-85c32ffdb3ff",
   "metadata": {},
   "outputs": [],
   "source": [
    "num=int(input(\"enter the number between 1-7:\"))\n",
    "if num==1: print(\"sunday\")\n",
    "elif num==2: print(\"monday\")\n",
    "elif num==3: print(\"tuesday\")\n",
    "elif num==4: print(\"wednesday\")\n",
    "elif num==5: print(\"thursday\")\n",
    "elif num==6: print(\"friday\")\n",
    "elif num==7: print(\"saturday\")\n",
    "else: print(\"wrong input\")"
   ]
  }
 ],
 "metadata": {
  "kernelspec": {
   "display_name": "Python 3 (ipykernel)",
   "language": "python",
   "name": "python3"
  },
  "language_info": {
   "codemirror_mode": {
    "name": "ipython",
    "version": 3
   },
   "file_extension": ".py",
   "mimetype": "text/x-python",
   "name": "python",
   "nbconvert_exporter": "python",
   "pygments_lexer": "ipython3",
   "version": "3.12.7"
  }
 },
 "nbformat": 4,
 "nbformat_minor": 5
}
