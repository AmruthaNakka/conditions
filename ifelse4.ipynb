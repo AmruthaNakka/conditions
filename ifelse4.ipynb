{
 "cells": [
  {
   "cell_type": "code",
   "execution_count": null,
   "id": "780d46d4-27cf-4843-9b88-83a7722b4c0b",
   "metadata": {},
   "outputs": [],
   "source": [
    "'''check whether the given input is a leap year for 4 years and centurians by if else'''\n",
    "year=int(input(\"enter the year\"))\n",
    "if year %4==0 or year%100==0 or year%400==0:\n",
    "    print(year,\" is leap year\")\n",
    "else:\n",
    "    print(year,\"is not leap year\")"
   ]
  }
 ],
 "metadata": {
  "kernelspec": {
   "display_name": "Python 3 (ipykernel)",
   "language": "python",
   "name": "python3"
  },
  "language_info": {
   "codemirror_mode": {
    "name": "ipython",
    "version": 3
   },
   "file_extension": ".py",
   "mimetype": "text/x-python",
   "name": "python",
   "nbconvert_exporter": "python",
   "pygments_lexer": "ipython3",
   "version": "3.12.7"
  }
 },
 "nbformat": 4,
 "nbformat_minor": 5
}
