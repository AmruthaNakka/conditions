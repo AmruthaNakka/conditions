{
 "cells": [
  {
   "cell_type": "code",
   "execution_count": null,
   "id": "a19a42e0-ff7f-41a1-95eb-09cc180e69d6",
   "metadata": {},
   "outputs": [],
   "source": [
    "'''program to  determine the character entered by a user ,whether it is an alphabet,digit or space by using seperate if condition and predefined string functions'''\n",
    "char=input(\"press any key:\")\n",
    "if char.isalpha():\n",
    "    print(\"the user has entered character\")\n",
    "if char.isdigit():\n",
    "    print(\"the user has entered digit\")\n",
    "if char.isspace():\n",
    "    print(\"the user has entered space\")"
   ]
  }
 ],
 "metadata": {
  "kernelspec": {
   "display_name": "Python 3 (ipykernel)",
   "language": "python",
   "name": "python3"
  },
  "language_info": {
   "codemirror_mode": {
    "name": "ipython",
    "version": 3
   },
   "file_extension": ".py",
   "mimetype": "text/x-python",
   "name": "python",
   "nbconvert_exporter": "python",
   "pygments_lexer": "ipython3",
   "version": "3.12.7"
  }
 },
 "nbformat": 4,
 "nbformat_minor": 5
}
