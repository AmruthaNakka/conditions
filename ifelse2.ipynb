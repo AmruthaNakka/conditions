{
 "cells": [
  {
   "cell_type": "code",
   "execution_count": null,
   "id": "299da265-c652-4794-b0e0-b6f946772c64",
   "metadata": {},
   "outputs": [],
   "source": [
    "'''write a program to find the smallest of two numbers by using if-else condition.\n",
    "where take a manual input from the user\n",
    "a=-4\n",
    "b=-99'''\n",
    "a=int(input(\"enter the value\"))\n",
    "b=int(input(\"enter the value\"))\n",
    "if a>b:\n",
    "    print(b ,\"is smallest\")\n",
    "else:\n",
    "    print(b, \"is greatest\")"
   ]
  }
 ],
 "metadata": {
  "kernelspec": {
   "display_name": "Python 3 (ipykernel)",
   "language": "python",
   "name": "python3"
  },
  "language_info": {
   "codemirror_mode": {
    "name": "ipython",
    "version": 3
   },
   "file_extension": ".py",
   "mimetype": "text/x-python",
   "name": "python",
   "nbconvert_exporter": "python",
   "pygments_lexer": "ipython3",
   "version": "3.12.7"
  }
 },
 "nbformat": 4,
 "nbformat_minor": 5
}
