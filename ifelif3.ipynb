{
 "cells": [
  {
   "cell_type": "code",
   "execution_count": null,
   "id": "3be4a4cb-2e8e-42fa-8edb-f3776c777f65",
   "metadata": {},
   "outputs": [],
   "source": [
    "'''write a program to find the entered character is a vowel or consonent ,while user input could be either upper or lower case using if-elif-else'''\n",
    "ch=input(\"enter a char from a->z\")\n",
    "if ch=='a' or ch=='e' or ch=='i' or ch=='o' or ch=='u':\n",
    "    print(ch,\"is a vowels\")\n",
    "if ch=='A' or ch=='E' or ch=='I' or ch=='O' or ch=='U':\n",
    "    print(ch,\"is a vowels\")\n",
    "else:\n",
    "    print(ch,\"is a consonent\")"
   ]
  }
 ],
 "metadata": {
  "kernelspec": {
   "display_name": "Python 3 (ipykernel)",
   "language": "python",
   "name": "python3"
  },
  "language_info": {
   "codemirror_mode": {
    "name": "ipython",
    "version": 3
   },
   "file_extension": ".py",
   "mimetype": "text/x-python",
   "name": "python",
   "nbconvert_exporter": "python",
   "pygments_lexer": "ipython3",
   "version": "3.12.7"
  }
 },
 "nbformat": 4,
 "nbformat_minor": 5
}
